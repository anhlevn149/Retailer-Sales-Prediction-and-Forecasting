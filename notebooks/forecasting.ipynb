{
 "cells": [
  {
   "cell_type": "markdown",
   "id": "39c0556d",
   "metadata": {},
   "source": [
    "# 1. Data Loading"
   ]
  },
  {
   "cell_type": "code",
   "execution_count": 1,
   "id": "dc803f15-b223-4929-9b34-3428333693f8",
   "metadata": {
    "tags": []
   },
   "outputs": [],
   "source": [
    "import pandas as pd\n",
    "import numpy as np"
   ]
  },
  {
   "cell_type": "code",
   "execution_count": 2,
   "id": "602967ae",
   "metadata": {},
   "outputs": [],
   "source": [
    "# Load combined_df from ../data/processed\n",
    "combined_df = pd.read_csv('../data/processed/combined_data.csv')"
   ]
  },
  {
   "cell_type": "markdown",
   "id": "06dbd786",
   "metadata": {},
   "source": [
    "# 2. Data Preprocessing"
   ]
  },
  {
   "cell_type": "code",
   "execution_count": 3,
   "id": "cdf43a21",
   "metadata": {},
   "outputs": [],
   "source": [
    "# Make a copy of combined_df and save as combined_df_clean\n",
    "combined_df_clean = combined_df.copy()"
   ]
  },
  {
   "cell_type": "code",
   "execution_count": 4,
   "id": "03322276",
   "metadata": {},
   "outputs": [],
   "source": [
    "# Replace NaN values in column 'sell_price' with value 0\n",
    "combined_df_clean['sell_price'] = combined_df_clean['sell_price'].replace(np.nan, 0, regex=True)"
   ]
  },
  {
   "cell_type": "code",
   "execution_count": 5,
   "id": "895606bc",
   "metadata": {},
   "outputs": [],
   "source": [
    "# Create a column named sales_revenue\n",
    "combined_df_clean['sales_revenue'] = combined_df_clean['sales_qty'] * combined_df_clean['sell_price']"
   ]
  },
  {
   "cell_type": "code",
   "execution_count": 6,
   "id": "9bf936f9",
   "metadata": {},
   "outputs": [
    {
     "data": {
      "text/html": [
       "<div>\n",
       "<style scoped>\n",
       "    .dataframe tbody tr th:only-of-type {\n",
       "        vertical-align: middle;\n",
       "    }\n",
       "\n",
       "    .dataframe tbody tr th {\n",
       "        vertical-align: top;\n",
       "    }\n",
       "\n",
       "    .dataframe thead th {\n",
       "        text-align: right;\n",
       "    }\n",
       "</style>\n",
       "<table border=\"1\" class=\"dataframe\">\n",
       "  <thead>\n",
       "    <tr style=\"text-align: right;\">\n",
       "      <th></th>\n",
       "      <th>date</th>\n",
       "      <th>sales_revenue</th>\n",
       "    </tr>\n",
       "  </thead>\n",
       "  <tbody>\n",
       "    <tr>\n",
       "      <th>0</th>\n",
       "      <td>2011-01-29</td>\n",
       "      <td>0.00</td>\n",
       "    </tr>\n",
       "    <tr>\n",
       "      <th>1</th>\n",
       "      <td>2011-01-29</td>\n",
       "      <td>0.00</td>\n",
       "    </tr>\n",
       "    <tr>\n",
       "      <th>2</th>\n",
       "      <td>2011-01-29</td>\n",
       "      <td>0.00</td>\n",
       "    </tr>\n",
       "    <tr>\n",
       "      <th>3</th>\n",
       "      <td>2011-01-29</td>\n",
       "      <td>0.00</td>\n",
       "    </tr>\n",
       "    <tr>\n",
       "      <th>4</th>\n",
       "      <td>2011-01-29</td>\n",
       "      <td>0.00</td>\n",
       "    </tr>\n",
       "    <tr>\n",
       "      <th>...</th>\n",
       "      <td>...</td>\n",
       "      <td>...</td>\n",
       "    </tr>\n",
       "    <tr>\n",
       "      <th>46985085</th>\n",
       "      <td>2015-04-18</td>\n",
       "      <td>5.76</td>\n",
       "    </tr>\n",
       "    <tr>\n",
       "      <th>46985086</th>\n",
       "      <td>2015-04-18</td>\n",
       "      <td>0.00</td>\n",
       "    </tr>\n",
       "    <tr>\n",
       "      <th>46985087</th>\n",
       "      <td>2015-04-18</td>\n",
       "      <td>0.00</td>\n",
       "    </tr>\n",
       "    <tr>\n",
       "      <th>46985088</th>\n",
       "      <td>2015-04-18</td>\n",
       "      <td>0.00</td>\n",
       "    </tr>\n",
       "    <tr>\n",
       "      <th>46985089</th>\n",
       "      <td>2015-04-18</td>\n",
       "      <td>3.00</td>\n",
       "    </tr>\n",
       "  </tbody>\n",
       "</table>\n",
       "<p>46985090 rows × 2 columns</p>\n",
       "</div>"
      ],
      "text/plain": [
       "                date  sales_revenue\n",
       "0         2011-01-29           0.00\n",
       "1         2011-01-29           0.00\n",
       "2         2011-01-29           0.00\n",
       "3         2011-01-29           0.00\n",
       "4         2011-01-29           0.00\n",
       "...              ...            ...\n",
       "46985085  2015-04-18           5.76\n",
       "46985086  2015-04-18           0.00\n",
       "46985087  2015-04-18           0.00\n",
       "46985088  2015-04-18           0.00\n",
       "46985089  2015-04-18           3.00\n",
       "\n",
       "[46985090 rows x 2 columns]"
      ]
     },
     "execution_count": 6,
     "metadata": {},
     "output_type": "execute_result"
    }
   ],
   "source": [
    "# Drop 'item_id', 'store_id', 'd', 'sales_qty', 'wm_yr_wk', 'sell_price' in combined_df_clean\n",
    "combined_df_clean = combined_df_clean.drop(['item_id', 'store_id', 'd', 'sales_qty', 'wm_yr_wk', 'sell_price'], axis=1)\n",
    "combined_df_clean"
   ]
  },
  {
   "cell_type": "code",
   "execution_count": 7,
   "id": "76fd6a75",
   "metadata": {},
   "outputs": [
    {
     "data": {
      "text/plain": [
       "date             0\n",
       "sales_revenue    0\n",
       "dtype: int64"
      ]
     },
     "execution_count": 7,
     "metadata": {},
     "output_type": "execute_result"
    }
   ],
   "source": [
    "combined_df_clean.isnull().sum()"
   ]
  },
  {
   "cell_type": "code",
   "execution_count": 8,
   "id": "9d16a45f",
   "metadata": {},
   "outputs": [],
   "source": [
    "# Downsample df_clean by using every 5th row and save as df_clean_sample\n",
    "df_clean_sample = combined_df_clean.iloc[::5, :]"
   ]
  },
  {
   "cell_type": "code",
   "execution_count": 9,
   "id": "f60de63d",
   "metadata": {},
   "outputs": [
    {
     "data": {
      "text/html": [
       "<div>\n",
       "<style scoped>\n",
       "    .dataframe tbody tr th:only-of-type {\n",
       "        vertical-align: middle;\n",
       "    }\n",
       "\n",
       "    .dataframe tbody tr th {\n",
       "        vertical-align: top;\n",
       "    }\n",
       "\n",
       "    .dataframe thead th {\n",
       "        text-align: right;\n",
       "    }\n",
       "</style>\n",
       "<table border=\"1\" class=\"dataframe\">\n",
       "  <thead>\n",
       "    <tr style=\"text-align: right;\">\n",
       "      <th></th>\n",
       "      <th>sales_revenue</th>\n",
       "    </tr>\n",
       "    <tr>\n",
       "      <th>date</th>\n",
       "      <th></th>\n",
       "    </tr>\n",
       "  </thead>\n",
       "  <tbody>\n",
       "    <tr>\n",
       "      <th>2011-01-29</th>\n",
       "      <td>0.00</td>\n",
       "    </tr>\n",
       "    <tr>\n",
       "      <th>2011-01-29</th>\n",
       "      <td>0.00</td>\n",
       "    </tr>\n",
       "    <tr>\n",
       "      <th>2011-01-29</th>\n",
       "      <td>0.00</td>\n",
       "    </tr>\n",
       "    <tr>\n",
       "      <th>2011-01-29</th>\n",
       "      <td>3.50</td>\n",
       "    </tr>\n",
       "    <tr>\n",
       "      <th>2011-01-29</th>\n",
       "      <td>0.00</td>\n",
       "    </tr>\n",
       "    <tr>\n",
       "      <th>...</th>\n",
       "      <td>...</td>\n",
       "    </tr>\n",
       "    <tr>\n",
       "      <th>2015-04-18</th>\n",
       "      <td>0.00</td>\n",
       "    </tr>\n",
       "    <tr>\n",
       "      <th>2015-04-18</th>\n",
       "      <td>0.00</td>\n",
       "    </tr>\n",
       "    <tr>\n",
       "      <th>2015-04-18</th>\n",
       "      <td>4.50</td>\n",
       "    </tr>\n",
       "    <tr>\n",
       "      <th>2015-04-18</th>\n",
       "      <td>0.00</td>\n",
       "    </tr>\n",
       "    <tr>\n",
       "      <th>2015-04-18</th>\n",
       "      <td>5.76</td>\n",
       "    </tr>\n",
       "  </tbody>\n",
       "</table>\n",
       "<p>9397018 rows × 1 columns</p>\n",
       "</div>"
      ],
      "text/plain": [
       "            sales_revenue\n",
       "date                     \n",
       "2011-01-29           0.00\n",
       "2011-01-29           0.00\n",
       "2011-01-29           0.00\n",
       "2011-01-29           3.50\n",
       "2011-01-29           0.00\n",
       "...                   ...\n",
       "2015-04-18           0.00\n",
       "2015-04-18           0.00\n",
       "2015-04-18           4.50\n",
       "2015-04-18           0.00\n",
       "2015-04-18           5.76\n",
       "\n",
       "[9397018 rows x 1 columns]"
      ]
     },
     "execution_count": 9,
     "metadata": {},
     "output_type": "execute_result"
    }
   ],
   "source": [
    "# Set date column to be dataframe index\n",
    "df_clean_sample.set_index('date')"
   ]
  },
  {
   "cell_type": "code",
   "execution_count": 10,
   "id": "d18e9585",
   "metadata": {},
   "outputs": [
    {
     "name": "stderr",
     "output_type": "stream",
     "text": [
      "C:\\Users\\this\\AppData\\Local\\Temp\\ipykernel_10008\\531477987.py:2: SettingWithCopyWarning: \n",
      "A value is trying to be set on a copy of a slice from a DataFrame.\n",
      "Try using .loc[row_indexer,col_indexer] = value instead\n",
      "\n",
      "See the caveats in the documentation: https://pandas.pydata.org/pandas-docs/stable/user_guide/indexing.html#returning-a-view-versus-a-copy\n",
      "  df_clean_sample['date'] = pd.to_datetime(df_clean_sample['date'])\n"
     ]
    }
   ],
   "source": [
    "# Convert the 'date' column to a datetime type\n",
    "df_clean_sample['date'] = pd.to_datetime(df_clean_sample['date'])"
   ]
  },
  {
   "cell_type": "markdown",
   "id": "7aa76763",
   "metadata": {},
   "source": [
    "# 3. Create time series and lag features"
   ]
  },
  {
   "cell_type": "code",
   "execution_count": 11,
   "id": "32c1c06b",
   "metadata": {},
   "outputs": [],
   "source": [
    "# Import datetime as dt\n",
    "import datetime as dt"
   ]
  },
  {
   "cell_type": "code",
   "execution_count": 12,
   "id": "efababfb",
   "metadata": {},
   "outputs": [
    {
     "name": "stderr",
     "output_type": "stream",
     "text": [
      "C:\\Users\\this\\AppData\\Local\\Temp\\ipykernel_10008\\819014061.py:2: SettingWithCopyWarning: \n",
      "A value is trying to be set on a copy of a slice from a DataFrame.\n",
      "Try using .loc[row_indexer,col_indexer] = value instead\n",
      "\n",
      "See the caveats in the documentation: https://pandas.pydata.org/pandas-docs/stable/user_guide/indexing.html#returning-a-view-versus-a-copy\n",
      "  df_clean_sample['year'] = df_clean_sample['date'].dt.year\n",
      "C:\\Users\\this\\AppData\\Local\\Temp\\ipykernel_10008\\819014061.py:3: SettingWithCopyWarning: \n",
      "A value is trying to be set on a copy of a slice from a DataFrame.\n",
      "Try using .loc[row_indexer,col_indexer] = value instead\n",
      "\n",
      "See the caveats in the documentation: https://pandas.pydata.org/pandas-docs/stable/user_guide/indexing.html#returning-a-view-versus-a-copy\n",
      "  df_clean_sample['quarter'] = df_clean_sample['date'].dt.quarter\n",
      "C:\\Users\\this\\AppData\\Local\\Temp\\ipykernel_10008\\819014061.py:4: SettingWithCopyWarning: \n",
      "A value is trying to be set on a copy of a slice from a DataFrame.\n",
      "Try using .loc[row_indexer,col_indexer] = value instead\n",
      "\n",
      "See the caveats in the documentation: https://pandas.pydata.org/pandas-docs/stable/user_guide/indexing.html#returning-a-view-versus-a-copy\n",
      "  df_clean_sample['month'] = df_clean_sample['date'].dt.month\n",
      "C:\\Users\\this\\AppData\\Local\\Temp\\ipykernel_10008\\819014061.py:5: SettingWithCopyWarning: \n",
      "A value is trying to be set on a copy of a slice from a DataFrame.\n",
      "Try using .loc[row_indexer,col_indexer] = value instead\n",
      "\n",
      "See the caveats in the documentation: https://pandas.pydata.org/pandas-docs/stable/user_guide/indexing.html#returning-a-view-versus-a-copy\n",
      "  df_clean_sample['day_of_week'] = df_clean_sample['date'].dt.dayofweek  # 0=Monday, 1=Tuesday, ..., 6=Sunday\n",
      "C:\\Users\\this\\AppData\\Local\\Temp\\ipykernel_10008\\819014061.py:6: SettingWithCopyWarning: \n",
      "A value is trying to be set on a copy of a slice from a DataFrame.\n",
      "Try using .loc[row_indexer,col_indexer] = value instead\n",
      "\n",
      "See the caveats in the documentation: https://pandas.pydata.org/pandas-docs/stable/user_guide/indexing.html#returning-a-view-versus-a-copy\n",
      "  df_clean_sample['weekofyear'] = df_clean_sample['date'].dt.isocalendar().week\n",
      "C:\\Users\\this\\AppData\\Local\\Temp\\ipykernel_10008\\819014061.py:7: SettingWithCopyWarning: \n",
      "A value is trying to be set on a copy of a slice from a DataFrame.\n",
      "Try using .loc[row_indexer,col_indexer] = value instead\n",
      "\n",
      "See the caveats in the documentation: https://pandas.pydata.org/pandas-docs/stable/user_guide/indexing.html#returning-a-view-versus-a-copy\n",
      "  df_clean_sample['dayofyear'] = df_clean_sample['date'].dt.dayofyear\n",
      "C:\\Users\\this\\AppData\\Local\\Temp\\ipykernel_10008\\819014061.py:8: SettingWithCopyWarning: \n",
      "A value is trying to be set on a copy of a slice from a DataFrame.\n",
      "Try using .loc[row_indexer,col_indexer] = value instead\n",
      "\n",
      "See the caveats in the documentation: https://pandas.pydata.org/pandas-docs/stable/user_guide/indexing.html#returning-a-view-versus-a-copy\n",
      "  df_clean_sample['dayofmonth'] = df_clean_sample['date'].dt.day\n"
     ]
    },
    {
     "data": {
      "text/html": [
       "<div>\n",
       "<style scoped>\n",
       "    .dataframe tbody tr th:only-of-type {\n",
       "        vertical-align: middle;\n",
       "    }\n",
       "\n",
       "    .dataframe tbody tr th {\n",
       "        vertical-align: top;\n",
       "    }\n",
       "\n",
       "    .dataframe thead th {\n",
       "        text-align: right;\n",
       "    }\n",
       "</style>\n",
       "<table border=\"1\" class=\"dataframe\">\n",
       "  <thead>\n",
       "    <tr style=\"text-align: right;\">\n",
       "      <th></th>\n",
       "      <th>date</th>\n",
       "      <th>sales_revenue</th>\n",
       "      <th>year</th>\n",
       "      <th>quarter</th>\n",
       "      <th>month</th>\n",
       "      <th>day_of_week</th>\n",
       "      <th>weekofyear</th>\n",
       "      <th>dayofyear</th>\n",
       "      <th>dayofmonth</th>\n",
       "    </tr>\n",
       "  </thead>\n",
       "  <tbody>\n",
       "    <tr>\n",
       "      <th>0</th>\n",
       "      <td>2011-01-29</td>\n",
       "      <td>0.00</td>\n",
       "      <td>2011</td>\n",
       "      <td>1</td>\n",
       "      <td>1</td>\n",
       "      <td>5</td>\n",
       "      <td>4</td>\n",
       "      <td>29</td>\n",
       "      <td>29</td>\n",
       "    </tr>\n",
       "    <tr>\n",
       "      <th>5</th>\n",
       "      <td>2011-01-29</td>\n",
       "      <td>0.00</td>\n",
       "      <td>2011</td>\n",
       "      <td>1</td>\n",
       "      <td>1</td>\n",
       "      <td>5</td>\n",
       "      <td>4</td>\n",
       "      <td>29</td>\n",
       "      <td>29</td>\n",
       "    </tr>\n",
       "    <tr>\n",
       "      <th>10</th>\n",
       "      <td>2011-01-29</td>\n",
       "      <td>0.00</td>\n",
       "      <td>2011</td>\n",
       "      <td>1</td>\n",
       "      <td>1</td>\n",
       "      <td>5</td>\n",
       "      <td>4</td>\n",
       "      <td>29</td>\n",
       "      <td>29</td>\n",
       "    </tr>\n",
       "    <tr>\n",
       "      <th>15</th>\n",
       "      <td>2011-01-29</td>\n",
       "      <td>3.50</td>\n",
       "      <td>2011</td>\n",
       "      <td>1</td>\n",
       "      <td>1</td>\n",
       "      <td>5</td>\n",
       "      <td>4</td>\n",
       "      <td>29</td>\n",
       "      <td>29</td>\n",
       "    </tr>\n",
       "    <tr>\n",
       "      <th>20</th>\n",
       "      <td>2011-01-29</td>\n",
       "      <td>0.00</td>\n",
       "      <td>2011</td>\n",
       "      <td>1</td>\n",
       "      <td>1</td>\n",
       "      <td>5</td>\n",
       "      <td>4</td>\n",
       "      <td>29</td>\n",
       "      <td>29</td>\n",
       "    </tr>\n",
       "    <tr>\n",
       "      <th>...</th>\n",
       "      <td>...</td>\n",
       "      <td>...</td>\n",
       "      <td>...</td>\n",
       "      <td>...</td>\n",
       "      <td>...</td>\n",
       "      <td>...</td>\n",
       "      <td>...</td>\n",
       "      <td>...</td>\n",
       "      <td>...</td>\n",
       "    </tr>\n",
       "    <tr>\n",
       "      <th>46985065</th>\n",
       "      <td>2015-04-18</td>\n",
       "      <td>0.00</td>\n",
       "      <td>2015</td>\n",
       "      <td>2</td>\n",
       "      <td>4</td>\n",
       "      <td>5</td>\n",
       "      <td>16</td>\n",
       "      <td>108</td>\n",
       "      <td>18</td>\n",
       "    </tr>\n",
       "    <tr>\n",
       "      <th>46985070</th>\n",
       "      <td>2015-04-18</td>\n",
       "      <td>0.00</td>\n",
       "      <td>2015</td>\n",
       "      <td>2</td>\n",
       "      <td>4</td>\n",
       "      <td>5</td>\n",
       "      <td>16</td>\n",
       "      <td>108</td>\n",
       "      <td>18</td>\n",
       "    </tr>\n",
       "    <tr>\n",
       "      <th>46985075</th>\n",
       "      <td>2015-04-18</td>\n",
       "      <td>4.50</td>\n",
       "      <td>2015</td>\n",
       "      <td>2</td>\n",
       "      <td>4</td>\n",
       "      <td>5</td>\n",
       "      <td>16</td>\n",
       "      <td>108</td>\n",
       "      <td>18</td>\n",
       "    </tr>\n",
       "    <tr>\n",
       "      <th>46985080</th>\n",
       "      <td>2015-04-18</td>\n",
       "      <td>0.00</td>\n",
       "      <td>2015</td>\n",
       "      <td>2</td>\n",
       "      <td>4</td>\n",
       "      <td>5</td>\n",
       "      <td>16</td>\n",
       "      <td>108</td>\n",
       "      <td>18</td>\n",
       "    </tr>\n",
       "    <tr>\n",
       "      <th>46985085</th>\n",
       "      <td>2015-04-18</td>\n",
       "      <td>5.76</td>\n",
       "      <td>2015</td>\n",
       "      <td>2</td>\n",
       "      <td>4</td>\n",
       "      <td>5</td>\n",
       "      <td>16</td>\n",
       "      <td>108</td>\n",
       "      <td>18</td>\n",
       "    </tr>\n",
       "  </tbody>\n",
       "</table>\n",
       "<p>9397018 rows × 9 columns</p>\n",
       "</div>"
      ],
      "text/plain": [
       "               date  sales_revenue  year  quarter  month  day_of_week  \\\n",
       "0        2011-01-29           0.00  2011        1      1            5   \n",
       "5        2011-01-29           0.00  2011        1      1            5   \n",
       "10       2011-01-29           0.00  2011        1      1            5   \n",
       "15       2011-01-29           3.50  2011        1      1            5   \n",
       "20       2011-01-29           0.00  2011        1      1            5   \n",
       "...             ...            ...   ...      ...    ...          ...   \n",
       "46985065 2015-04-18           0.00  2015        2      4            5   \n",
       "46985070 2015-04-18           0.00  2015        2      4            5   \n",
       "46985075 2015-04-18           4.50  2015        2      4            5   \n",
       "46985080 2015-04-18           0.00  2015        2      4            5   \n",
       "46985085 2015-04-18           5.76  2015        2      4            5   \n",
       "\n",
       "          weekofyear  dayofyear  dayofmonth  \n",
       "0                  4         29          29  \n",
       "5                  4         29          29  \n",
       "10                 4         29          29  \n",
       "15                 4         29          29  \n",
       "20                 4         29          29  \n",
       "...              ...        ...         ...  \n",
       "46985065          16        108          18  \n",
       "46985070          16        108          18  \n",
       "46985075          16        108          18  \n",
       "46985080          16        108          18  \n",
       "46985085          16        108          18  \n",
       "\n",
       "[9397018 rows x 9 columns]"
      ]
     },
     "execution_count": 12,
     "metadata": {},
     "output_type": "execute_result"
    }
   ],
   "source": [
    "# Create features 'year', 'quarter', 'month', 'day_of_week', 'weekofyear', 'dayofyear', 'dayofmonth' from column 'date'\n",
    "df_clean_sample['year'] = df_clean_sample['date'].dt.year\n",
    "df_clean_sample['quarter'] = df_clean_sample['date'].dt.quarter\n",
    "df_clean_sample['month'] = df_clean_sample['date'].dt.month\n",
    "df_clean_sample['day_of_week'] = df_clean_sample['date'].dt.dayofweek  # 0=Monday, 1=Tuesday, ..., 6=Sunday\n",
    "df_clean_sample['weekofyear'] = df_clean_sample['date'].dt.isocalendar().week\n",
    "df_clean_sample['dayofyear'] = df_clean_sample['date'].dt.dayofyear\n",
    "df_clean_sample['dayofmonth'] = df_clean_sample['date'].dt.day\n",
    "\n",
    "df_clean_sample"
   ]
  },
  {
   "cell_type": "code",
   "execution_count": 13,
   "id": "f40f108a",
   "metadata": {},
   "outputs": [
    {
     "name": "stderr",
     "output_type": "stream",
     "text": [
      "C:\\Users\\this\\AppData\\Local\\Temp\\ipykernel_10008\\172387656.py:3: SettingWithCopyWarning: \n",
      "A value is trying to be set on a copy of a slice from a DataFrame.\n",
      "Try using .loc[row_indexer,col_indexer] = value instead\n",
      "\n",
      "See the caveats in the documentation: https://pandas.pydata.org/pandas-docs/stable/user_guide/indexing.html#returning-a-view-versus-a-copy\n",
      "  df_clean_sample['lag1'] = (df_clean_sample['date'] - pd.Timedelta('7 days')).map(target_map)\n",
      "C:\\Users\\this\\AppData\\Local\\Temp\\ipykernel_10008\\172387656.py:4: SettingWithCopyWarning: \n",
      "A value is trying to be set on a copy of a slice from a DataFrame.\n",
      "Try using .loc[row_indexer,col_indexer] = value instead\n",
      "\n",
      "See the caveats in the documentation: https://pandas.pydata.org/pandas-docs/stable/user_guide/indexing.html#returning-a-view-versus-a-copy\n",
      "  df_clean_sample['lag2'] = (df_clean_sample['date'] - pd.Timedelta('14 days')).map(target_map)\n",
      "C:\\Users\\this\\AppData\\Local\\Temp\\ipykernel_10008\\172387656.py:5: SettingWithCopyWarning: \n",
      "A value is trying to be set on a copy of a slice from a DataFrame.\n",
      "Try using .loc[row_indexer,col_indexer] = value instead\n",
      "\n",
      "See the caveats in the documentation: https://pandas.pydata.org/pandas-docs/stable/user_guide/indexing.html#returning-a-view-versus-a-copy\n",
      "  df_clean_sample['lag3'] = (df_clean_sample['date'] - pd.Timedelta('28 days')).map(target_map)\n"
     ]
    }
   ],
   "source": [
    "# Create lag features based on time series index.\n",
    "target_map = df_clean_sample['sales_revenue'].to_dict()\n",
    "df_clean_sample['lag1'] = (df_clean_sample['date'] - pd.Timedelta('7 days')).map(target_map)\n",
    "df_clean_sample['lag2'] = (df_clean_sample['date'] - pd.Timedelta('14 days')).map(target_map)\n",
    "df_clean_sample['lag3'] = (df_clean_sample['date'] - pd.Timedelta('28 days')).map(target_map)"
   ]
  },
  {
   "cell_type": "markdown",
   "id": "8dcd7153",
   "metadata": {},
   "source": [
    "# 4. Train/ Validation Split"
   ]
  },
  {
   "cell_type": "code",
   "execution_count": 14,
   "id": "1cff057a",
   "metadata": {},
   "outputs": [],
   "source": [
    "# Import TimeSeriesSplit from sklearn.model_selection \n",
    "from sklearn.model_selection import TimeSeriesSplit"
   ]
  },
  {
   "cell_type": "code",
   "execution_count": 15,
   "id": "c5810c69",
   "metadata": {},
   "outputs": [],
   "source": [
    "# Initiate TimeSeriesSplit class with n_splits=5\n",
    "tscv = TimeSeriesSplit(n_splits=5)"
   ]
  },
  {
   "cell_type": "code",
   "execution_count": 16,
   "id": "38977b7b",
   "metadata": {},
   "outputs": [],
   "source": [
    "# Split df_clean_sample to train_data and val_data\n",
    "for train_index, val_index in tscv.split(df_clean_sample):\n",
    "    train_data = df_clean_sample.iloc[train_index]\n",
    "    val_data = df_clean_sample.iloc[val_index]"
   ]
  },
  {
   "cell_type": "code",
   "execution_count": 17,
   "id": "3e53fe73",
   "metadata": {},
   "outputs": [],
   "source": [
    "# Save the target variable of train_data and val_data as y_train and y_val respectively\n",
    "y_train = train_data['sales_revenue']\n",
    "y_val = val_data['sales_revenue']"
   ]
  },
  {
   "cell_type": "markdown",
   "id": "3f3073ed",
   "metadata": {},
   "source": [
    "# 5. Baseline model"
   ]
  },
  {
   "cell_type": "code",
   "execution_count": 18,
   "id": "e9673ea7",
   "metadata": {},
   "outputs": [],
   "source": [
    "# Find the mean value of target variable and save as y_mean\n",
    "y_mean = train_data['sales_revenue'].mean()"
   ]
  },
  {
   "cell_type": "code",
   "execution_count": 19,
   "id": "8ec227a0",
   "metadata": {},
   "outputs": [],
   "source": [
    "# Create a numpy array with the same dimensions as for the train_data called y_base filled with this value\n",
    "y_base = np.full(y_train.shape, y_mean)"
   ]
  },
  {
   "cell_type": "code",
   "execution_count": 20,
   "id": "8541683d",
   "metadata": {},
   "outputs": [],
   "source": [
    "# Import mean_squared_error from sklearn.metrics\n",
    "from sklearn.metrics import mean_squared_error as mse"
   ]
  },
  {
   "cell_type": "code",
   "execution_count": 21,
   "id": "85dbb846",
   "metadata": {},
   "outputs": [
    {
     "name": "stdout",
     "output_type": "stream",
     "text": [
      "9.097263900281192\n"
     ]
    }
   ],
   "source": [
    "# Print the recall score of this baseline model on the training dataset\n",
    "print(mse(y_train, y_base, squared=False))"
   ]
  },
  {
   "cell_type": "markdown",
   "id": "9a5a070d",
   "metadata": {},
   "source": [
    "# 6. Train and evaluate XGBoost model"
   ]
  },
  {
   "cell_type": "code",
   "execution_count": 46,
   "id": "9f3e6f5f",
   "metadata": {},
   "outputs": [],
   "source": [
    "# Import Pipeline from sklearn.pipeline, import StandardScaler from sklearn.preprocessing, import xgb as xgb\n",
    "from sklearn.pipeline import Pipeline\n",
    "from sklearn.preprocessing import StandardScaler\n",
    "import xgboost as xgb"
   ]
  },
  {
   "cell_type": "code",
   "execution_count": 47,
   "id": "7956effd",
   "metadata": {},
   "outputs": [],
   "source": [
    "# Create a Pipeline called num_transformer with one step that contains StandardScaler\n",
    "num_transformer = Pipeline(\n",
    "    steps=[\n",
    "        ('scaler', StandardScaler())\n",
    "    ]\n",
    ")"
   ]
  },
  {
   "cell_type": "code",
   "execution_count": 48,
   "id": "9d8b26b0",
   "metadata": {},
   "outputs": [],
   "source": [
    "# Create a Pipeline called cat_transformer with one step that contains OneHotEncoder\n",
    "# cat_transformer = Pipeline(\n",
    "#     steps=[\n",
    "#         ('one_hot_encoder', OneHotEncoder())\n",
    "#     ]\n",
    "# )"
   ]
  },
  {
   "cell_type": "code",
   "execution_count": 49,
   "id": "fa9412cc",
   "metadata": {},
   "outputs": [],
   "source": [
    "# Create a list called num_cols that will contain the list of columns that are numeric type\n",
    "num_cols = ['year', 'quarter', 'month', 'weekofyear', 'dayofyear', 'dayofmonth', 'day_of_week', 'lag1', 'lag2', 'lag3']"
   ]
  },
  {
   "cell_type": "code",
   "execution_count": 50,
   "id": "2122bf2f",
   "metadata": {},
   "outputs": [],
   "source": [
    "# cat_cols = ['item_id', 'store_id']"
   ]
  },
  {
   "cell_type": "code",
   "execution_count": 51,
   "id": "14379c70",
   "metadata": {},
   "outputs": [],
   "source": [
    "# Import ColumnTransformer from sklearn.compose\n",
    "from sklearn.compose import ColumnTransformer"
   ]
  },
  {
   "cell_type": "code",
   "execution_count": 52,
   "id": "7cca0815",
   "metadata": {},
   "outputs": [],
   "source": [
    "# Create a ColumnTransformer called preprocessor containing the following steps\n",
    "\n",
    "# num_transformer for num_cols\n",
    "# cat_transformer for cat_cols\n",
    "\n",
    "preprocessor = ColumnTransformer(\n",
    "    transformers=[\n",
    "        ('num_cols', num_transformer, num_cols)\n",
    "    ]\n",
    ")"
   ]
  },
  {
   "cell_type": "code",
   "execution_count": 53,
   "id": "cecce27b",
   "metadata": {},
   "outputs": [],
   "source": [
    "# Create a Pipeline called sgd_pipe that contains 2 steps preprocessor and another that instantiate a SGDClassifier with same parameters as previously\n",
    "xgb_pipe = Pipeline(\n",
    "    steps=[\n",
    "        ('preprocessor', preprocessor),\n",
    "        ('xgb', xgb.XGBRegressor())\n",
    "    ]\n",
    ")"
   ]
  },
  {
   "cell_type": "code",
   "execution_count": 54,
   "id": "344ecd64",
   "metadata": {},
   "outputs": [
    {
     "name": "stderr",
     "output_type": "stream",
     "text": [
      "c:\\Users\\this\\AppData\\Local\\Programs\\Python\\Python39\\lib\\site-packages\\sklearn\\utils\\extmath.py:1050: RuntimeWarning: invalid value encountered in divide\n",
      "  updated_mean = (last_sum + new_sum) / updated_sample_count\n",
      "c:\\Users\\this\\AppData\\Local\\Programs\\Python\\Python39\\lib\\site-packages\\sklearn\\utils\\extmath.py:1055: RuntimeWarning: invalid value encountered in divide\n",
      "  T = new_sum / new_sample_count\n",
      "c:\\Users\\this\\AppData\\Local\\Programs\\Python\\Python39\\lib\\site-packages\\sklearn\\utils\\extmath.py:1075: RuntimeWarning: invalid value encountered in divide\n",
      "  new_unnormalized_variance -= correction**2 / new_sample_count\n",
      "c:\\Users\\this\\AppData\\Local\\Programs\\Python\\Python39\\lib\\site-packages\\xgboost\\data.py:520: FutureWarning: is_sparse is deprecated and will be removed in a future version. Check `isinstance(dtype, pd.SparseDtype)` instead.\n",
      "  if is_sparse(data):\n"
     ]
    },
    {
     "data": {
      "text/html": [
       "<style>#sk-container-id-2 {color: black;}#sk-container-id-2 pre{padding: 0;}#sk-container-id-2 div.sk-toggleable {background-color: white;}#sk-container-id-2 label.sk-toggleable__label {cursor: pointer;display: block;width: 100%;margin-bottom: 0;padding: 0.3em;box-sizing: border-box;text-align: center;}#sk-container-id-2 label.sk-toggleable__label-arrow:before {content: \"▸\";float: left;margin-right: 0.25em;color: #696969;}#sk-container-id-2 label.sk-toggleable__label-arrow:hover:before {color: black;}#sk-container-id-2 div.sk-estimator:hover label.sk-toggleable__label-arrow:before {color: black;}#sk-container-id-2 div.sk-toggleable__content {max-height: 0;max-width: 0;overflow: hidden;text-align: left;background-color: #f0f8ff;}#sk-container-id-2 div.sk-toggleable__content pre {margin: 0.2em;color: black;border-radius: 0.25em;background-color: #f0f8ff;}#sk-container-id-2 input.sk-toggleable__control:checked~div.sk-toggleable__content {max-height: 200px;max-width: 100%;overflow: auto;}#sk-container-id-2 input.sk-toggleable__control:checked~label.sk-toggleable__label-arrow:before {content: \"▾\";}#sk-container-id-2 div.sk-estimator input.sk-toggleable__control:checked~label.sk-toggleable__label {background-color: #d4ebff;}#sk-container-id-2 div.sk-label input.sk-toggleable__control:checked~label.sk-toggleable__label {background-color: #d4ebff;}#sk-container-id-2 input.sk-hidden--visually {border: 0;clip: rect(1px 1px 1px 1px);clip: rect(1px, 1px, 1px, 1px);height: 1px;margin: -1px;overflow: hidden;padding: 0;position: absolute;width: 1px;}#sk-container-id-2 div.sk-estimator {font-family: monospace;background-color: #f0f8ff;border: 1px dotted black;border-radius: 0.25em;box-sizing: border-box;margin-bottom: 0.5em;}#sk-container-id-2 div.sk-estimator:hover {background-color: #d4ebff;}#sk-container-id-2 div.sk-parallel-item::after {content: \"\";width: 100%;border-bottom: 1px solid gray;flex-grow: 1;}#sk-container-id-2 div.sk-label:hover label.sk-toggleable__label {background-color: #d4ebff;}#sk-container-id-2 div.sk-serial::before {content: \"\";position: absolute;border-left: 1px solid gray;box-sizing: border-box;top: 0;bottom: 0;left: 50%;z-index: 0;}#sk-container-id-2 div.sk-serial {display: flex;flex-direction: column;align-items: center;background-color: white;padding-right: 0.2em;padding-left: 0.2em;position: relative;}#sk-container-id-2 div.sk-item {position: relative;z-index: 1;}#sk-container-id-2 div.sk-parallel {display: flex;align-items: stretch;justify-content: center;background-color: white;position: relative;}#sk-container-id-2 div.sk-item::before, #sk-container-id-2 div.sk-parallel-item::before {content: \"\";position: absolute;border-left: 1px solid gray;box-sizing: border-box;top: 0;bottom: 0;left: 50%;z-index: -1;}#sk-container-id-2 div.sk-parallel-item {display: flex;flex-direction: column;z-index: 1;position: relative;background-color: white;}#sk-container-id-2 div.sk-parallel-item:first-child::after {align-self: flex-end;width: 50%;}#sk-container-id-2 div.sk-parallel-item:last-child::after {align-self: flex-start;width: 50%;}#sk-container-id-2 div.sk-parallel-item:only-child::after {width: 0;}#sk-container-id-2 div.sk-dashed-wrapped {border: 1px dashed gray;margin: 0 0.4em 0.5em 0.4em;box-sizing: border-box;padding-bottom: 0.4em;background-color: white;}#sk-container-id-2 div.sk-label label {font-family: monospace;font-weight: bold;display: inline-block;line-height: 1.2em;}#sk-container-id-2 div.sk-label-container {text-align: center;}#sk-container-id-2 div.sk-container {/* jupyter's `normalize.less` sets `[hidden] { display: none; }` but bootstrap.min.css set `[hidden] { display: none !important; }` so we also need the `!important` here to be able to override the default hidden behavior on the sphinx rendered scikit-learn.org. See: https://github.com/scikit-learn/scikit-learn/issues/21755 */display: inline-block !important;position: relative;}#sk-container-id-2 div.sk-text-repr-fallback {display: none;}</style><div id=\"sk-container-id-2\" class=\"sk-top-container\"><div class=\"sk-text-repr-fallback\"><pre>Pipeline(steps=[(&#x27;preprocessor&#x27;,\n",
       "                 ColumnTransformer(transformers=[(&#x27;num_cols&#x27;,\n",
       "                                                  Pipeline(steps=[(&#x27;scaler&#x27;,\n",
       "                                                                   StandardScaler())]),\n",
       "                                                  [&#x27;year&#x27;, &#x27;quarter&#x27;, &#x27;month&#x27;,\n",
       "                                                   &#x27;weekofyear&#x27;, &#x27;dayofyear&#x27;,\n",
       "                                                   &#x27;dayofmonth&#x27;, &#x27;day_of_week&#x27;,\n",
       "                                                   &#x27;lag1&#x27;, &#x27;lag2&#x27;, &#x27;lag3&#x27;])])),\n",
       "                (&#x27;xgb&#x27;,\n",
       "                 XGBRegressor(base_score=None, booster=None, callbacks=None,\n",
       "                              colsample_bylevel=None, colsample_bynode=None,\n",
       "                              colsample_bytre...\n",
       "                              feature_types=None, gamma=None, grow_policy=None,\n",
       "                              importance_type=None,\n",
       "                              interaction_constraints=None, learning_rate=None,\n",
       "                              max_bin=None, max_cat_threshold=None,\n",
       "                              max_cat_to_onehot=None, max_delta_step=None,\n",
       "                              max_depth=None, max_leaves=None,\n",
       "                              min_child_weight=None, missing=nan,\n",
       "                              monotone_constraints=None, multi_strategy=None,\n",
       "                              n_estimators=None, n_jobs=None,\n",
       "                              num_parallel_tree=None, random_state=None, ...))])</pre><b>In a Jupyter environment, please rerun this cell to show the HTML representation or trust the notebook. <br />On GitHub, the HTML representation is unable to render, please try loading this page with nbviewer.org.</b></div><div class=\"sk-container\" hidden><div class=\"sk-item sk-dashed-wrapped\"><div class=\"sk-label-container\"><div class=\"sk-label sk-toggleable\"><input class=\"sk-toggleable__control sk-hidden--visually\" id=\"sk-estimator-id-6\" type=\"checkbox\" ><label for=\"sk-estimator-id-6\" class=\"sk-toggleable__label sk-toggleable__label-arrow\">Pipeline</label><div class=\"sk-toggleable__content\"><pre>Pipeline(steps=[(&#x27;preprocessor&#x27;,\n",
       "                 ColumnTransformer(transformers=[(&#x27;num_cols&#x27;,\n",
       "                                                  Pipeline(steps=[(&#x27;scaler&#x27;,\n",
       "                                                                   StandardScaler())]),\n",
       "                                                  [&#x27;year&#x27;, &#x27;quarter&#x27;, &#x27;month&#x27;,\n",
       "                                                   &#x27;weekofyear&#x27;, &#x27;dayofyear&#x27;,\n",
       "                                                   &#x27;dayofmonth&#x27;, &#x27;day_of_week&#x27;,\n",
       "                                                   &#x27;lag1&#x27;, &#x27;lag2&#x27;, &#x27;lag3&#x27;])])),\n",
       "                (&#x27;xgb&#x27;,\n",
       "                 XGBRegressor(base_score=None, booster=None, callbacks=None,\n",
       "                              colsample_bylevel=None, colsample_bynode=None,\n",
       "                              colsample_bytre...\n",
       "                              feature_types=None, gamma=None, grow_policy=None,\n",
       "                              importance_type=None,\n",
       "                              interaction_constraints=None, learning_rate=None,\n",
       "                              max_bin=None, max_cat_threshold=None,\n",
       "                              max_cat_to_onehot=None, max_delta_step=None,\n",
       "                              max_depth=None, max_leaves=None,\n",
       "                              min_child_weight=None, missing=nan,\n",
       "                              monotone_constraints=None, multi_strategy=None,\n",
       "                              n_estimators=None, n_jobs=None,\n",
       "                              num_parallel_tree=None, random_state=None, ...))])</pre></div></div></div><div class=\"sk-serial\"><div class=\"sk-item sk-dashed-wrapped\"><div class=\"sk-label-container\"><div class=\"sk-label sk-toggleable\"><input class=\"sk-toggleable__control sk-hidden--visually\" id=\"sk-estimator-id-7\" type=\"checkbox\" ><label for=\"sk-estimator-id-7\" class=\"sk-toggleable__label sk-toggleable__label-arrow\">preprocessor: ColumnTransformer</label><div class=\"sk-toggleable__content\"><pre>ColumnTransformer(transformers=[(&#x27;num_cols&#x27;,\n",
       "                                 Pipeline(steps=[(&#x27;scaler&#x27;, StandardScaler())]),\n",
       "                                 [&#x27;year&#x27;, &#x27;quarter&#x27;, &#x27;month&#x27;, &#x27;weekofyear&#x27;,\n",
       "                                  &#x27;dayofyear&#x27;, &#x27;dayofmonth&#x27;, &#x27;day_of_week&#x27;,\n",
       "                                  &#x27;lag1&#x27;, &#x27;lag2&#x27;, &#x27;lag3&#x27;])])</pre></div></div></div><div class=\"sk-parallel\"><div class=\"sk-parallel-item\"><div class=\"sk-item\"><div class=\"sk-label-container\"><div class=\"sk-label sk-toggleable\"><input class=\"sk-toggleable__control sk-hidden--visually\" id=\"sk-estimator-id-8\" type=\"checkbox\" ><label for=\"sk-estimator-id-8\" class=\"sk-toggleable__label sk-toggleable__label-arrow\">num_cols</label><div class=\"sk-toggleable__content\"><pre>[&#x27;year&#x27;, &#x27;quarter&#x27;, &#x27;month&#x27;, &#x27;weekofyear&#x27;, &#x27;dayofyear&#x27;, &#x27;dayofmonth&#x27;, &#x27;day_of_week&#x27;, &#x27;lag1&#x27;, &#x27;lag2&#x27;, &#x27;lag3&#x27;]</pre></div></div></div><div class=\"sk-serial\"><div class=\"sk-item\"><div class=\"sk-serial\"><div class=\"sk-item\"><div class=\"sk-estimator sk-toggleable\"><input class=\"sk-toggleable__control sk-hidden--visually\" id=\"sk-estimator-id-9\" type=\"checkbox\" ><label for=\"sk-estimator-id-9\" class=\"sk-toggleable__label sk-toggleable__label-arrow\">StandardScaler</label><div class=\"sk-toggleable__content\"><pre>StandardScaler()</pre></div></div></div></div></div></div></div></div></div></div><div class=\"sk-item\"><div class=\"sk-estimator sk-toggleable\"><input class=\"sk-toggleable__control sk-hidden--visually\" id=\"sk-estimator-id-10\" type=\"checkbox\" ><label for=\"sk-estimator-id-10\" class=\"sk-toggleable__label sk-toggleable__label-arrow\">XGBRegressor</label><div class=\"sk-toggleable__content\"><pre>XGBRegressor(base_score=None, booster=None, callbacks=None,\n",
       "             colsample_bylevel=None, colsample_bynode=None,\n",
       "             colsample_bytree=None, device=None, early_stopping_rounds=None,\n",
       "             enable_categorical=False, eval_metric=None, feature_types=None,\n",
       "             gamma=None, grow_policy=None, importance_type=None,\n",
       "             interaction_constraints=None, learning_rate=None, max_bin=None,\n",
       "             max_cat_threshold=None, max_cat_to_onehot=None,\n",
       "             max_delta_step=None, max_depth=None, max_leaves=None,\n",
       "             min_child_weight=None, missing=nan, monotone_constraints=None,\n",
       "             multi_strategy=None, n_estimators=None, n_jobs=None,\n",
       "             num_parallel_tree=None, random_state=None, ...)</pre></div></div></div></div></div></div></div>"
      ],
      "text/plain": [
       "Pipeline(steps=[('preprocessor',\n",
       "                 ColumnTransformer(transformers=[('num_cols',\n",
       "                                                  Pipeline(steps=[('scaler',\n",
       "                                                                   StandardScaler())]),\n",
       "                                                  ['year', 'quarter', 'month',\n",
       "                                                   'weekofyear', 'dayofyear',\n",
       "                                                   'dayofmonth', 'day_of_week',\n",
       "                                                   'lag1', 'lag2', 'lag3'])])),\n",
       "                ('xgb',\n",
       "                 XGBRegressor(base_score=None, booster=None, callbacks=None,\n",
       "                              colsample_bylevel=None, colsample_bynode=None,\n",
       "                              colsample_bytre...\n",
       "                              feature_types=None, gamma=None, grow_policy=None,\n",
       "                              importance_type=None,\n",
       "                              interaction_constraints=None, learning_rate=None,\n",
       "                              max_bin=None, max_cat_threshold=None,\n",
       "                              max_cat_to_onehot=None, max_delta_step=None,\n",
       "                              max_depth=None, max_leaves=None,\n",
       "                              min_child_weight=None, missing=nan,\n",
       "                              monotone_constraints=None, multi_strategy=None,\n",
       "                              n_estimators=None, n_jobs=None,\n",
       "                              num_parallel_tree=None, random_state=None, ...))])"
      ]
     },
     "execution_count": 54,
     "metadata": {},
     "output_type": "execute_result"
    }
   ],
   "source": [
    "# Fit xgb_pipe with train_data\n",
    "xgb_pipe.fit(train_data, y_train)"
   ]
  },
  {
   "cell_type": "code",
   "execution_count": 55,
   "id": "2c04dbba",
   "metadata": {},
   "outputs": [],
   "source": [
    "# Make predictions on train_data and save as y_train_preds\n",
    "y_train_preds = xgb_pipe.predict(train_data)"
   ]
  },
  {
   "cell_type": "code",
   "execution_count": 56,
   "id": "7f164ea4",
   "metadata": {},
   "outputs": [],
   "source": [
    "# Make predictions on val_data and save as y_val_preds\n",
    "y_val_preds = xgb_pipe.predict(val_data)"
   ]
  },
  {
   "cell_type": "code",
   "execution_count": 57,
   "id": "ed7ad203",
   "metadata": {},
   "outputs": [
    {
     "name": "stdout",
     "output_type": "stream",
     "text": [
      "9.072826972278389\n"
     ]
    }
   ],
   "source": [
    "# Display the RMSE score on the training set\n",
    "print(mse(y_train, y_train_preds, squared=False))"
   ]
  },
  {
   "cell_type": "code",
   "execution_count": 58,
   "id": "27225a41",
   "metadata": {},
   "outputs": [
    {
     "name": "stdout",
     "output_type": "stream",
     "text": [
      "10.008304662516279\n"
     ]
    }
   ],
   "source": [
    "# Display the RMSE score on the testing set\n",
    "print(mse(y_val, y_val_preds, squared=False))"
   ]
  },
  {
   "cell_type": "code",
   "execution_count": 59,
   "id": "0ba8d851",
   "metadata": {},
   "outputs": [
    {
     "data": {
      "text/plain": [
       "['../models/forecasting/xgb_pipeline.joblib']"
      ]
     },
     "execution_count": 59,
     "metadata": {},
     "output_type": "execute_result"
    }
   ],
   "source": [
    "# Import dump from joblib package and save sgd_pipe into models folder\n",
    "from joblib import dump\n",
    "\n",
    "dump(xgb_pipe,  '../models/forecasting/xgb_pipeline.joblib')"
   ]
  }
 ],
 "metadata": {
  "kernelspec": {
   "display_name": "Python 3 (ipykernel)",
   "language": "python",
   "name": "python3"
  },
  "language_info": {
   "codemirror_mode": {
    "name": "ipython",
    "version": 3
   },
   "file_extension": ".py",
   "mimetype": "text/x-python",
   "name": "python",
   "nbconvert_exporter": "python",
   "pygments_lexer": "ipython3",
   "version": "3.9.13"
  }
 },
 "nbformat": 4,
 "nbformat_minor": 5
}
